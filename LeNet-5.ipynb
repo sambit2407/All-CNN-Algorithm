{
 "cells": [
  {
   "cell_type": "markdown",
   "id": "1aa69396",
   "metadata": {},
   "source": [
    "## Importing Necessary Libraries"
   ]
  },
  {
   "cell_type": "code",
   "execution_count": 21,
   "id": "cadd5a99",
   "metadata": {},
   "outputs": [],
   "source": [
    "import keras\n",
    "from keras.datasets import mnist\n",
    "from keras.layers import Conv2D, AveragePooling2D\n",
    "from keras.layers import Dense, Flatten\n",
    "from keras.models import Sequential"
   ]
  },
  {
   "cell_type": "markdown",
   "id": "fcf401ac",
   "metadata": {},
   "source": [
    "## Data Preprocessing"
   ]
  },
  {
   "cell_type": "code",
   "execution_count": 23,
   "id": "055fbb1c",
   "metadata": {},
   "outputs": [],
   "source": [
    "(x_train, y_train), (x_test, y_test) = mnist.load_data()\n",
    "# Peforming reshaping operation\n",
    "x_train = x_train.reshape(x_train.shape[0], 28, 28, 1)\n",
    "x_test = x_test.reshape(x_test.shape[0], 28, 28, 1)\n",
    "\n",
    "# Normalization\n",
    "x_train = x_train / 255\n",
    "x_test = x_test / 255\n",
    "\n",
    "# One Hot Encoding\n",
    "y_train = keras.utils.to_categorical(y_train, 10)\n",
    "y_test = keras.utils.to_categorical(y_test, 10)"
   ]
  },
  {
   "cell_type": "markdown",
   "id": "fb77442c",
   "metadata": {},
   "source": [
    "## Model Building Pipeline"
   ]
  },
  {
   "cell_type": "code",
   "execution_count": 24,
   "id": "37cc9fdf",
   "metadata": {},
   "outputs": [],
   "source": [
    "model = Sequential()\n",
    "\n",
    "model.add(Conv2D(6, kernel_size=(5, 5), activation='tanh', input_shape=(28, 28, 1)))\n",
    "\n",
    "model.add(AveragePooling2D(pool_size=(2, 2)))\n",
    "\n",
    "model.add(Conv2D(16, kernel_size=(5, 5), activation='tanh'))\n",
    "\n",
    "model.add(AveragePooling2D(pool_size=(2, 2)))\n",
    "\n",
    "model.add(Flatten())\n",
    "\n",
    "model.add(Dense(120, activation='tanh'))\n",
    "\n",
    "model.add(Dense(84, activation='tanh'))\n",
    "\n",
    "model.add(Dense(10, activation='softmax'))"
   ]
  },
  {
   "cell_type": "code",
   "execution_count": 25,
   "id": "cbc44fc5",
   "metadata": {},
   "outputs": [
    {
     "name": "stdout",
     "output_type": "stream",
     "text": [
      "Model: \"sequential_7\"\n",
      "_________________________________________________________________\n",
      "Layer (type)                 Output Shape              Param #   \n",
      "=================================================================\n",
      "conv2d_13 (Conv2D)           (None, 24, 24, 6)         156       \n",
      "_________________________________________________________________\n",
      "average_pooling2d_13 (Averag (None, 12, 12, 6)         0         \n",
      "_________________________________________________________________\n",
      "conv2d_14 (Conv2D)           (None, 8, 8, 16)          2416      \n",
      "_________________________________________________________________\n",
      "average_pooling2d_14 (Averag (None, 4, 4, 16)          0         \n",
      "_________________________________________________________________\n",
      "flatten_7 (Flatten)          (None, 256)               0         \n",
      "_________________________________________________________________\n",
      "dense_19 (Dense)             (None, 120)               30840     \n",
      "_________________________________________________________________\n",
      "dense_20 (Dense)             (None, 84)                10164     \n",
      "_________________________________________________________________\n",
      "dense_21 (Dense)             (None, 10)                850       \n",
      "=================================================================\n",
      "Total params: 44,426\n",
      "Trainable params: 44,426\n",
      "Non-trainable params: 0\n",
      "_________________________________________________________________\n",
      "Train on 60000 samples, validate on 10000 samples\n",
      "Epoch 1/10\n",
      "60000/60000 [==============================] - 15s 246us/step - loss: 0.3525 - accuracy: 0.8985 - val_loss: 0.1634 - val_accuracy: 0.9524\n",
      "Epoch 2/10\n",
      "60000/60000 [==============================] - 14s 234us/step - loss: 0.1286 - accuracy: 0.9608 - val_loss: 0.1029 - val_accuracy: 0.9685\n",
      "Epoch 3/10\n",
      "60000/60000 [==============================] - 14s 226us/step - loss: 0.0825 - accuracy: 0.9748 - val_loss: 0.0734 - val_accuracy: 0.9753\n",
      "Epoch 4/10\n",
      "60000/60000 [==============================] - 13s 223us/step - loss: 0.0613 - accuracy: 0.9809 - val_loss: 0.0658 - val_accuracy: 0.9784\n",
      "Epoch 5/10\n",
      "60000/60000 [==============================] - 13s 215us/step - loss: 0.0491 - accuracy: 0.9845 - val_loss: 0.0506 - val_accuracy: 0.9818\n",
      "Epoch 6/10\n",
      "60000/60000 [==============================] - 14s 234us/step - loss: 0.0408 - accuracy: 0.9874 - val_loss: 0.0452 - val_accuracy: 0.9844\n",
      "Epoch 7/10\n",
      "60000/60000 [==============================] - 14s 238us/step - loss: 0.0344 - accuracy: 0.9887 - val_loss: 0.0450 - val_accuracy: 0.9856\n",
      "Epoch 8/10\n",
      "60000/60000 [==============================] - 14s 240us/step - loss: 0.0291 - accuracy: 0.9908 - val_loss: 0.0445 - val_accuracy: 0.9853\n",
      "Epoch 9/10\n",
      "60000/60000 [==============================] - 14s 227us/step - loss: 0.0245 - accuracy: 0.9921 - val_loss: 0.0465 - val_accuracy: 0.9856\n",
      "Epoch 10/10\n",
      "60000/60000 [==============================] - 14s 231us/step - loss: 0.0219 - accuracy: 0.9934 - val_loss: 0.0426 - val_accuracy: 0.9864\n",
      "10000/10000 [==============================] - 1s 114us/step\n",
      "Test score: [0.04264431137326174, 0.9864000082015991]\n",
      "Test loss: 0.04264431137326174\n"
     ]
    }
   ],
   "source": [
    "\n",
    "model.summary()\n",
    "model.compile(loss=keras.metrics.categorical_crossentropy, optimizer=keras.optimizers.Adam(), metrics=['accuracy'])\n",
    "model.fit(x_train, y_train, batch_size=120, epochs=10, verbose=1, validation_data=(x_test, y_test))\n",
    "score = model.evaluate(x_test, y_test)\n",
    "print('Test score:', score)\n",
    "print('Test loss:', score[0])"
   ]
  },
  {
   "cell_type": "code",
   "execution_count": null,
   "id": "66400103",
   "metadata": {},
   "outputs": [],
   "source": []
  }
 ],
 "metadata": {
  "kernelspec": {
   "display_name": "Python 3",
   "language": "python",
   "name": "python3"
  },
  "language_info": {
   "codemirror_mode": {
    "name": "ipython",
    "version": 3
   },
   "file_extension": ".py",
   "mimetype": "text/x-python",
   "name": "python",
   "nbconvert_exporter": "python",
   "pygments_lexer": "ipython3",
   "version": "3.6.9"
  }
 },
 "nbformat": 4,
 "nbformat_minor": 5
}
